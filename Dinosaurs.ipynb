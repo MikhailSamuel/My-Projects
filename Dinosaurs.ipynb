{
 "cells": [
  {
   "cell_type": "markdown",
   "id": "237b1c84-c993-47dc-ac53-512c903e0c59",
   "metadata": {},
   "source": [
    "## 📖 Background\n",
    "You're applying for a summer internship at a national museum for natural history. The museum recently created a database containing all dinosaur records of past field campaigns. Your job is to dive into the fossil records to find some interesting insights, and advise the museum on the quality of the data. "
   ]
  },
  {
   "cell_type": "markdown",
   "id": "01ea1972-ed5f-4285-b4ff-ca43477aa97b",
   "metadata": {},
   "source": [
    "## 💾 The data\n",
    "\n",
    "### You have access to a real dataset containing dinosaur records from the Paleobiology Database ([source](https://paleobiodb.org/#/)):\n",
    "\n",
    "\n",
    "| Column name | Description |\n",
    "|---|---|\n",
    "| occurence_no | The original occurrence number from the Paleobiology Database. |\n",
    "| name | The accepted name of the dinosaur (usually the genus name, or the name of the footprint/egg fossil). |\n",
    "| diet | The main diet (omnivorous, carnivorous, herbivorous). |\n",
    "| type | The dinosaur type (small theropod, large theropod, sauropod, ornithopod, ceratopsian, armored dinosaur). |\n",
    "| length_m | The maximum length, from head to tail, in meters. |\n",
    "| max_ma | The age in which the first fossil records of the dinosaur where found, in million years. |\n",
    "| min_ma | The age in which the last fossil records of the dinosaur where found, in million years. |\n",
    "| region | The current region where the fossil record was found. |\n",
    "| lng | The longitude where the fossil record was found. |\n",
    "| lat | The latitude where the fossil record was found. |\n",
    "| class | The taxonomical class of the dinosaur (Saurischia or Ornithischia). |\n",
    "| family | The taxonomical family of the dinosaur (if known). |\n",
    "\n",
    "The data was enriched with data from Wikipedia."
   ]
  },
  {
   "cell_type": "code",
   "execution_count": null,
   "id": "857b992a",
   "metadata": {
    "vscode": {
     "languageId": "r"
    }
   },
   "outputs": [],
   "source": [
    "# libraries what I need\n",
    "library(tidyverse)\n",
    "library(plotly)\n",
    "library(skimr)"
   ]
  },
  {
   "cell_type": "code",
   "execution_count": null,
   "id": "067023d8-cda1-4d3b-b9b3-58838b7858be",
   "metadata": {
    "executionCancelledAt": null,
    "executionTime": 882,
    "lastExecutedAt": 1709159503766,
    "lastScheduledRunId": null,
    "lastSuccessfullyExecutedCode": "# Import the tidyverse library\nlibrary(tidyverse)\n# Load the data\ndinosaurs <- read_csv('data/dinosaurs.csv', show_col_types = FALSE)",
    "outputsMetadata": {
     "0": {
      "height": 217,
      "type": "stream"
     }
    },
    "vscode": {
     "languageId": "r"
    }
   },
   "outputs": [],
   "source": [
    "\n",
    "# Load the data\n",
    "dinosaurs <- read_csv('data/dinosaurs.csv', show_col_types = FALSE)\n"
   ]
  },
  {
   "cell_type": "code",
   "execution_count": null,
   "id": "1a3c6836-78ea-41b8-bff9-8f831f5817fc",
   "metadata": {
    "executionCancelledAt": null,
    "executionTime": 5150,
    "lastExecutedAt": 1704915174667,
    "lastScheduledRunId": null,
    "lastSuccessfullyExecutedCode": "# Preview the dataframe\ndinosaurs",
    "outputsMetadata": {
     "0": {
      "height": 323,
      "type": "dataFrame"
     }
    },
    "scrolled": true,
    "vscode": {
     "languageId": "r"
    }
   },
   "outputs": [],
   "source": [
    "# Preview the dataframe\n",
    "dinosaurs"
   ]
  },
  {
   "cell_type": "code",
   "execution_count": null,
   "id": "93cfcba1",
   "metadata": {
    "scrolled": true,
    "vscode": {
     "languageId": "r"
    }
   },
   "outputs": [],
   "source": [
    "# Discover the data\n",
    "skim(dinosaurs)"
   ]
  },
  {
   "cell_type": "code",
   "execution_count": null,
   "id": "977804a7",
   "metadata": {
    "vscode": {
     "languageId": "r"
    }
   },
   "outputs": [],
   "source": [
    "# What about missing data in the dataset?\n",
    "# I will drop_na\n",
    "dinosaurs <- dinosaurs %>% drop_na()\n",
    "map(dinosaurs,~sum(is.na(.)))"
   ]
  },
  {
   "cell_type": "code",
   "execution_count": null,
   "id": "a42b82c6",
   "metadata": {
    "scrolled": true,
    "vscode": {
     "languageId": "r"
    }
   },
   "outputs": [],
   "source": [
    "# How many different dinosaur names are present in the data?\n",
    "length(unique(dinosaurs$name))"
   ]
  },
  {
   "cell_type": "code",
   "execution_count": null,
   "id": "8053bbd7",
   "metadata": {
    "vscode": {
     "languageId": "r"
    }
   },
   "outputs": [],
   "source": [
    "# Which was the largest dinosaur?\n",
    "dinosaurs[max(dinosaurs$length_m),]"
   ]
  },
  {
   "cell_type": "code",
   "execution_count": null,
   "id": "9fb2cee4",
   "metadata": {
    "vscode": {
     "languageId": "r"
    }
   },
   "outputs": [],
   "source": [
    "# What dinosaur type has the most occurrences in this dataset? \n",
    "# Create a visualization (table, bar chart, or equivalent) \n",
    "# to display the number of dinosaurs per type. \n",
    "# Use the AI assistant to tweak your visualization (colors, labels, title...).\n",
    "\n",
    "p1  <- dinosaurs %>% \n",
    "arrange(desc(occurrence_no)) %>% \n",
    "head(10) %>% \n",
    "ggplot(aes(occurrence_no,fill = as.factor(type))) +\n",
    "geom_histogram() +\n",
    "labs(fill = 'type')\n",
    "\n",
    "ggplotly(p1,dynamicTicks = TRUE)"
   ]
  },
  {
   "cell_type": "code",
   "execution_count": null,
   "id": "7c9eb8be",
   "metadata": {
    "vscode": {
     "languageId": "r"
    }
   },
   "outputs": [],
   "source": [
    "# Did dinosaurs get bigger over time? \n",
    "# Show the relation between the dinosaur length and their age to illustrate this\n",
    "dinosaurs  <- dinosaurs %>% \n",
    "mutate(years = (max_ma + min_ma)/2) \n",
    "p <-  dinosaurs %>% \n",
    "ggplot(aes(years,length_m)) +\n",
    "geom_point() +\n",
    "geom_smooth(method = 'glm') \n",
    "\n",
    "ggplotly(p,dynamicTicks = TRUE)"
   ]
  },
  {
   "cell_type": "code",
   "execution_count": null,
   "id": "4d554563",
   "metadata": {
    "vscode": {
     "languageId": "r"
    }
   },
   "outputs": [],
   "source": [
    "# Here I'm looking for each type how many it have of dinosaurs\n",
    "p <- dinosaurs %>%\n",
    "ggplot(aes(type,fill = type)) + \n",
    "geom_bar() + \n",
    "theme(axis.text.x = element_text(angle = 30,vjust = 3))\n",
    "ggplotly(p,dynamicTicks = TRUE)"
   ]
  },
  {
   "cell_type": "code",
   "execution_count": null,
   "id": "68a41658",
   "metadata": {
    "vscode": {
     "languageId": "r"
    }
   },
   "outputs": [],
   "source": [
    "p <- \n",
    "dinosaurs %>% \n",
    "ggplot(aes(region,length_m,color = diet)) + \n",
    "geom_point() +\n",
    "theme(axis.text.x = element_blank()) +\n",
    "facet_wrap(~diet)\n",
    "\n",
    "ggplotly(p)\n",
    "\n",
    "# I'm discovered that all dinosaurs have diet herbivorous \n",
    "# is the lagerst length than the others in all regions"
   ]
  },
  {
   "cell_type": "code",
   "execution_count": null,
   "id": "4ad0183d",
   "metadata": {
    "scrolled": true,
    "vscode": {
     "languageId": "r"
    }
   },
   "outputs": [],
   "source": [
    "# Here I'm looking for families and its counts\n",
    "\n",
    "p <- dinosaurs  %>% \n",
    "ggplot(aes(y = family,color = family)) + geom_point(stat = 'count') \n",
    "\n",
    "ggplotly(p,dynamicTicks = TRUE)"
   ]
  },
  {
   "cell_type": "code",
   "execution_count": null,
   "id": "6262dc7a",
   "metadata": {
    "vscode": {
     "languageId": "r"
    }
   },
   "outputs": [],
   "source": [
    "write_csv(dinosaurs,'dinosaurs.csv')"
   ]
  }
 ],
 "metadata": {
  "editor": "DataCamp Workspace",
  "kernelspec": {
   "display_name": "R",
   "language": "R",
   "name": "ir"
  },
  "language_info": {
   "codemirror_mode": "r",
   "file_extension": ".r",
   "mimetype": "text/x-r-source",
   "name": "R",
   "pygments_lexer": "r",
   "version": "4.3.2"
  }
 },
 "nbformat": 4,
 "nbformat_minor": 5
}
